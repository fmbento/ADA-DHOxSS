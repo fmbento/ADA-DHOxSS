{
  "nbformat": 4,
  "nbformat_minor": 0,
  "metadata": {
    "colab": {
      "name": "Extract Images (PNGs) from PDF.ipynb",
      "provenance": [],
      "collapsed_sections": [],
      "authorship_tag": "ABX9TyNqBzgD5qjIQ9mJ2Dqa0Uhw",
      "include_colab_link": true
    },
    "kernelspec": {
      "name": "python3",
      "display_name": "Python 3"
    },
    "language_info": {
      "name": "python"
    }
  },
  "cells": [
    {
      "cell_type": "markdown",
      "metadata": {
        "id": "view-in-github",
        "colab_type": "text"
      },
      "source": [
        "<a href=\"https://colab.research.google.com/github/fmbento/ADA-DHOxSS/blob/master/Extract_Images_(PNGs)_from_PDF.ipynb\" target=\"_parent\"><img src=\"https://colab.research.google.com/assets/colab-badge.svg\" alt=\"Open In Colab\"/></a>"
      ]
    },
    {
      "cell_type": "markdown",
      "metadata": {
        "id": "MGhwO3qTvlFE"
      },
      "source": [
        "**Upload** the **PDF** to the **root** and **change the name of the PDF**, first line of the code (\"example\", without the file extension, .pdf), before running the cell bellow:"
      ]
    },
    {
      "cell_type": "code",
      "metadata": {
        "id": "Fdtoxko892RB"
      },
      "source": [
        "PDFfile = \"example\"\n",
        "\n",
        "!pip install PyMuPDF\n",
        "!mkdir ExtractedImages\n",
        "\n",
        "import fitz\n",
        "import shutil\n",
        "\n",
        "doc = fitz.open(PDFfile+'.pdf')\n",
        "for i in range(len(doc)):\n",
        "    for img in doc.getPageImageList(i):\n",
        "        xref = img[0]\n",
        "        pix = fitz.Pixmap(doc, xref)\n",
        "        if pix.n < 5:       # this is GRAY or RGB\n",
        "            pix.writePNG(\"ExtractedImages/p%s-%s.png\" % (i, xref))\n",
        "        else:               # CMYK: convert to RGB first\n",
        "            pix1 = fitz.Pixmap(fitz.csRGB, pix)\n",
        "            pix1.writePNG(\"ExtractedImages/p%s-%s.png\" % (i, xref))\n",
        "            pix1 = None\n",
        "        pix = None\n",
        "        \n",
        "shutil.make_archive(PDFfile+'_ExtractedImages', 'zip', './ExtractedImages', './')\n",
        "!rm ExtractedImages/*.png        "
      ],
      "execution_count": null,
      "outputs": []
    },
    {
      "cell_type": "markdown",
      "metadata": {
        "id": "z7QUFO0Uv_Fo"
      },
      "source": [
        "**Refresh** the **folder contents** and **download** the file **<** **PDF filename >_ExtractedImages.zip** from the root"
      ]
    }
  ]
}